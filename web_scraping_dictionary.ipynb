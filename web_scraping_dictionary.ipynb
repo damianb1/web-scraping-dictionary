{
  "nbformat": 4,
  "nbformat_minor": 0,
  "metadata": {
    "colab": {
      "name": "web_scraping_dictionary.ipynb",
      "provenance": [],
      "collapsed_sections": []
    },
    "kernelspec": {
      "name": "python3",
      "display_name": "Python 3"
    },
    "language_info": {
      "name": "python"
    }
  },
  "cells": [
    {
      "cell_type": "markdown",
      "metadata": {
        "id": "inswu4BzgNIE"
      },
      "source": [
        "https://www.lexico.com\n",
        "\n",
        "This notebook shows web scraping examples.\n",
        "The data is extracted from an online English dictionary. \n",
        "\n",
        "\n",
        "https://www.lexico.com"
      ]
    },
    {
      "cell_type": "markdown",
      "metadata": {
        "id": "Loh2qs-ssSoU"
      },
      "source": [
        "##Example page"
      ]
    },
    {
      "cell_type": "markdown",
      "metadata": {
        "id": "AckfCuqk1wj0"
      },
      "source": [
        "\n",
        "\n",
        "\n",
        "<!--\n",
        "![sdf](https://user-images.githubusercontent.com/79875767/126273408-96951cf5-cc3b-40f4-8f1a-b886f2a35e3a.png)\n",
        "-->\n",
        "<!--\n",
        "<img src=\"https://user-images.githubusercontent.com/79875767/126273408-96951cf5-cc3b-40f4-8f1a-b886f2a35e3a.png\" height=400/>\n",
        "<img src=\"https://user-images.githubusercontent.com/79875767/126273421-06699614-0115-4d0b-9d38-31bbb5806989.png\" height=400/>\n",
        "<img src=\"https://user-images.githubusercontent.com/79875767/126273428-feba8255-01cd-4eb1-b403-9eb414d091e3.png\" height=400/>\n",
        "<img src=\"https://user-images.githubusercontent.com/79875767/128669591-27d43bf5-778a-409b-9cbd-e928259834f3.png\" height=400/>\n",
        "-->\n",
        "\n",
        "\n",
        "<!--First column name -->  | <!--Second column name--> \n",
        "-------------------|------------------\n",
        "<img src=\"https://user-images.githubusercontent.com/79875767/126273408-96951cf5-cc3b-40f4-8f1a-b886f2a35e3a.png\" height=400/>      | <img src=\"https://user-images.githubusercontent.com/79875767/126273421-06699614-0115-4d0b-9d38-31bbb5806989.png\" height=400/>\n",
        "<img src=\"https://user-images.githubusercontent.com/79875767/126273428-feba8255-01cd-4eb1-b403-9eb414d091e3.png\" height=400/>      | <img src=\"https://user-images.githubusercontent.com/79875767/128669591-27d43bf5-778a-409b-9cbd-e928259834f3.png\" height=400/>"
      ]
    },
    {
      "cell_type": "markdown",
      "metadata": {
        "id": "wLf6LcXGsUHJ"
      },
      "source": [
        "## Downloading and processing"
      ]
    },
    {
      "cell_type": "code",
      "metadata": {
        "id": "ivRK4M-tiP-L"
      },
      "source": [
        "from urllib.request import urlopen\n",
        "from lxml.html import fromstring, tostring"
      ],
      "execution_count": 1,
      "outputs": []
    },
    {
      "cell_type": "code",
      "metadata": {
        "id": "XwShA-pR2BID"
      },
      "source": [
        "broken_html=\"\"\n",
        "with urlopen('https://www.lexico.com/definition/word') as response:\n",
        "    for line in response:\n",
        "        broken_html+=line.decode('utf-8')"
      ],
      "execution_count": 2,
      "outputs": []
    },
    {
      "cell_type": "code",
      "metadata": {
        "id": "GvQysuP-3dJl"
      },
      "source": [
        "tree = fromstring(broken_html)\n",
        "fixed_html = tostring(tree, pretty_print=True).decode('utf-8')\n",
        "tree=fromstring(fixed_html)"
      ],
      "execution_count": 3,
      "outputs": []
    },
    {
      "cell_type": "code",
      "metadata": {
        "colab": {
          "base_uri": "https://localhost:8080/"
        },
        "id": "k3X6irEM_IrO",
        "outputId": "3f2c3208-609e-41d2-fe57-fc915f564c92"
      },
      "source": [
        "tree"
      ],
      "execution_count": 4,
      "outputs": [
        {
          "output_type": "execute_result",
          "data": {
            "text/plain": [
              "<Element html at 0x7f03368619b0>"
            ]
          },
          "metadata": {
            "tags": []
          },
          "execution_count": 4
        }
      ]
    },
    {
      "cell_type": "markdown",
      "metadata": {
        "id": "jLWGbzGSw5hT"
      },
      "source": [
        "## View page source\n"
      ]
    },
    {
      "cell_type": "markdown",
      "metadata": {
        "id": "XWeicL6u-vpk"
      },
      "source": [
        "\n",
        "\n",
        "<img src=\"https://user-images.githubusercontent.com/79875767/126277852-44af137b-8acf-462f-b7f1-0e4d4b21613b.png\"/> "
      ]
    },
    {
      "cell_type": "code",
      "metadata": {
        "id": "N-7eOoxO5H8V"
      },
      "source": [
        "# selecting only part of the page for further search\n",
        "# a div with class \"entryWrapper\"\n",
        "# it's a parent node for elements containing information about given word\n",
        "\n",
        "entry_tree=tree.xpath('//div[@class=\"entryWrapper\"]')"
      ],
      "execution_count": 5,
      "outputs": []
    },
    {
      "cell_type": "markdown",
      "metadata": {
        "id": "Ky7niVjawB9l"
      },
      "source": [
        "## Extracting definitions"
      ]
    },
    {
      "cell_type": "markdown",
      "metadata": {
        "id": "RVsl8IJVAcQD"
      },
      "source": [
        "<img src=\"https://user-images.githubusercontent.com/79875767/126279489-f884dbfe-9bf4-4d79-a604-4c830f092620.png\"/> \n",
        "\n"
      ]
    },
    {
      "cell_type": "markdown",
      "metadata": {
        "id": "G30BCCmGz1b9"
      },
      "source": [
        "Main definitions (broad meanings)"
      ]
    },
    {
      "cell_type": "code",
      "metadata": {
        "id": "45WO6uSP5si8"
      },
      "source": [
        "main_defs = entry_tree[0].xpath('//section[@class=\"gramb\"]/ul[@class=\"semb\"]/li/div[@class=\"trg\"]/p/span[@class=\"ind one-click-content\"]')"
      ],
      "execution_count": 6,
      "outputs": []
    },
    {
      "cell_type": "code",
      "metadata": {
        "colab": {
          "base_uri": "https://localhost:8080/"
        },
        "id": "KsZmZ8oDEnDC",
        "outputId": "d2dbbeab-149d-4fe0-97eb-da941894d157"
      },
      "source": [
        "for x in main_defs:\n",
        "    print(x.text_content()) "
      ],
      "execution_count": 7,
      "outputs": [
        {
          "output_type": "stream",
          "text": [
            "A single distinct meaningful element of speech or writing, used with others (or sometimes alone) to form a sentence and typically shown with a space on either side when written or printed.\n",
            "A command, password, or signal.\n",
            "One's account of the truth, especially when it differs from that of another person.\n",
            "The text or spoken part of a play, opera, or other performed piece; a script.\n",
            "A basic unit of data in a computer, typically 16 or 32 bits long.\n",
            "Express (something spoken or written) in particular words.\n",
            "Used to express agreement or affirmation.\n"
          ],
          "name": "stdout"
        }
      ]
    },
    {
      "cell_type": "markdown",
      "metadata": {
        "id": "iHFVpbxncWvV"
      },
      "source": [
        "All definitions"
      ]
    },
    {
      "cell_type": "code",
      "metadata": {
        "id": "8MmPQEVlEoB_"
      },
      "source": [
        "# all definitions (without specifying full path, looks for any element with specified id)\n",
        "all_defs = entry_tree[0].xpath('//span[@class=\"ind one-click-content\"]')"
      ],
      "execution_count": 8,
      "outputs": []
    },
    {
      "cell_type": "code",
      "metadata": {
        "colab": {
          "base_uri": "https://localhost:8080/"
        },
        "id": "TeKlzI5yFX-F",
        "outputId": "2b8d2652-a96e-4243-b49a-5cbd86135104"
      },
      "source": [
        "len(all_defs)"
      ],
      "execution_count": 9,
      "outputs": [
        {
          "output_type": "execute_result",
          "data": {
            "text/plain": [
              "46"
            ]
          },
          "metadata": {
            "tags": []
          },
          "execution_count": 9
        }
      ]
    },
    {
      "cell_type": "code",
      "metadata": {
        "colab": {
          "base_uri": "https://localhost:8080/"
        },
        "id": "zVmo5LT7Et62",
        "outputId": "69deaf69-8041-46cc-c542-5bba7c4332a3"
      },
      "source": [
        "for x in all_defs[:15]:\n",
        "    print(x.text_content())"
      ],
      "execution_count": 10,
      "outputs": [
        {
          "output_type": "stream",
          "text": [
            "A single distinct meaningful element of speech or writing, used with others (or sometimes alone) to form a sentence and typically shown with a space on either side when written or printed.\n",
            "A single distinct conceptual unit of language, comprising inflected and variant forms.\n",
            "Something spoken or written; a remark or statement.\n",
            "Even the smallest amount of something spoken or written.\n",
            "Angry talk.\n",
            "Speech as distinct from action.\n",
            "A command, password, or signal.\n",
            "Communication; news.\n",
            "One's account of the truth, especially when it differs from that of another person.\n",
            "A promise or assurance.\n",
            "The text or spoken part of a play, opera, or other performed piece; a script.\n",
            "A basic unit of data in a computer, typically 16 or 32 bits long.\n",
            "Express (something spoken or written) in particular words.\n",
            "Used to express agreement or affirmation.\n",
            "Interpret a person's words literally, especially by believing them or doing as they suggest.\n"
          ],
          "name": "stdout"
        }
      ]
    },
    {
      "cell_type": "markdown",
      "metadata": {
        "id": "_zPzGGR-BN25"
      },
      "source": [
        "## Function for getting main meanings"
      ]
    },
    {
      "cell_type": "code",
      "metadata": {
        "id": "KyV_ADq1BNUx"
      },
      "source": [
        "def get_defs(word):\n",
        "    b_html=\"\"\n",
        "    with urlopen(f'https://www.lexico.com/definition/{word}') as response:\n",
        "        for line in response:\n",
        "            b_html+=line.decode('utf-8')\n",
        "    t = fromstring(b_html)\n",
        "    f_html = tostring(t, pretty_print=True).decode('utf-8')\n",
        "    t = fromstring(f_html)\n",
        "    entry_t=t.xpath('//div[@class=\"entryWrapper\"]')\n",
        "    main_defs = entry_t[0].xpath('//section[@class=\"gramb\"]/ul[@class=\"semb\"]/li/div[@class=\"trg\"]/p/span[@class=\"ind one-click-content\"]')\n",
        "    print(f\"{word}:\")\n",
        "    for d in main_defs:\n",
        "        print(\"\\n\", d.text_content())"
      ],
      "execution_count": 11,
      "outputs": []
    },
    {
      "cell_type": "markdown",
      "metadata": {
        "id": "YNhssvYmTC7X"
      },
      "source": [
        "Examples"
      ]
    },
    {
      "cell_type": "code",
      "metadata": {
        "colab": {
          "base_uri": "https://localhost:8080/"
        },
        "id": "6XKDC0sQBNW5",
        "outputId": "6de704da-9d28-4ee1-abd1-003d9fe22846"
      },
      "source": [
        "get_defs('subsense')"
      ],
      "execution_count": 12,
      "outputs": [
        {
          "output_type": "stream",
          "text": [
            "subsense:\n",
            "\n",
            " A subsidiary sense of a word defined in a dictionary.\n"
          ],
          "name": "stdout"
        }
      ]
    },
    {
      "cell_type": "code",
      "metadata": {
        "colab": {
          "base_uri": "https://localhost:8080/"
        },
        "id": "z9XGDzqlBNZR",
        "outputId": "3676e56c-e16c-4c22-e26d-3e5d2b4abb39"
      },
      "source": [
        "get_defs('subsidiary')"
      ],
      "execution_count": 13,
      "outputs": [
        {
          "output_type": "stream",
          "text": [
            "subsidiary:\n",
            "\n",
            " Less important than but related or supplementary to something.\n",
            "\n",
            " A company controlled by a holding company.\n"
          ],
          "name": "stdout"
        }
      ]
    },
    {
      "cell_type": "markdown",
      "metadata": {
        "id": "i2fXxkcrFepb"
      },
      "source": [
        "\n",
        "\n",
        "## With parts of speech, subsenses, synonyms, examples..."
      ]
    },
    {
      "cell_type": "code",
      "metadata": {
        "id": "rf5VU9KvFfZQ"
      },
      "source": [
        "def get_all(word):\n",
        "    print(word,\"\\n\")\n",
        "    broken_html=\"\"\n",
        "    try:\n",
        "        with urlopen(f'https://www.lexico.com/definition/{word}') as response:\n",
        "            for line in response:\n",
        "                line = line.decode('utf-8')\n",
        "                broken_html+=line\n",
        "    except:\n",
        "        print('error')\n",
        "        return\n",
        "    try:\n",
        "        tree = fromstring(broken_html)\n",
        "        fixed_html = tostring(tree, pretty_print=True).decode('utf-8')\n",
        "        tree = fromstring(fixed_html)\n",
        "        entry_tree=tree.xpath('//div[@class=\"entryWrapper\"]')\n",
        "    except:\n",
        "        print(\"error\")\n",
        "        return\n",
        "    \n",
        "    grambs=entry_tree[0].xpath('//section[@class=\"gramb\"]')\n",
        "    for gramb in grambs: # for every part of speech\n",
        "        part_of_speech=gramb.xpath('h3[@class=\"ps pos\"]/span[@class=\"pos\"]')\n",
        "        print(part_of_speech[0].text_content().upper())\n",
        "\n",
        "        get_single_text= lambda x: x[0].text_content() if len(x)>0 else \"\" # preventing errors when no results\n",
        "        get_p1_text = lambda p1: \"%s\" % ' '.join([f'({x.text_content()})' for x in p1]) # (result1), (result2) \n",
        "        get_p2_text = lambda p2: \"%s\" % ' '.join([f'[{x.text_content()}]' for x in p2]) # [result1], [result2]\n",
        "        get_syn_text = lambda s: \"Synonyms: %s\" % ''.join([x.text_content() for x in s]) if len(s)>0 else \"\" # Synonyms: a, b\n",
        "\n",
        "        sense_reg_gramb = gramb.xpath('span[@class=\"sense-registers\"]')\n",
        "        sense_reg_gramb = get_p2_text(sense_reg_gramb)\n",
        "        form_groups_gramb = gramb.xpath('span[@class=\"form-groups\"]')\n",
        "        form_groups_gramb = get_p1_text(form_groups_gramb)\n",
        "        print(sense_reg_gramb, form_groups_gramb)\n",
        "        senses = gramb.xpath('ul[@class=\"semb\"]/li')\n",
        "        for sense in senses: # for every general meaning / broad definition\n",
        "\n",
        "            \n",
        "            iteration= sense.xpath('div[@class=\"trg\"]/p/span[@class=\"iteration\"]')\n",
        "            iteration=get_single_text(iteration)\n",
        "            form_groups = sense.xpath('div[@class=\"trg\"]/p/span[@class=\"form-groups\"]')\n",
        "            fg_text=get_p1_text(form_groups) # for example: (one's word) before the definition\n",
        "            grammatical_notes = sense.xpath('div[@class=\"trg\"]/p/span[@class=\"grammatical_note\"]')\n",
        "            gn_text=get_p2_text(grammatical_notes) # example: [mass noun]\n",
        "            \n",
        "            sense_reg = sense.xpath('span[@class=\"sense-registers\"]')\n",
        "            sense_reg = get_p2_text(sense_reg)\n",
        "\n",
        "            main_def = sense.xpath('div[@class=\"trg\"]/p/span[@class=\"ind one-click-content\"]')\n",
        "            main_def = get_single_text(main_def)\n",
        "            cross_ref = sense.xpath('div[@class=\"trg\"]/div[@class=\"crossReference\"]')\n",
        "            cross_ref = get_single_text(cross_ref)\n",
        "\n",
        "            example =  sense.xpath('div[@class=\"trg\"]//div[@class=\"exg\"]')\n",
        "            example = get_single_text(example)\n",
        "            synonyms = sense.xpath('div[@class=\"trg\"]/div[@class=\"synonyms\"]/div[@class=\"exg\"]/div')\n",
        "            syn_text = get_syn_text(synonyms)\n",
        "\n",
        "            print(iteration, sense_reg, fg_text, gn_text, main_def, cross_ref)\n",
        "\n",
        "            print(example)\n",
        "            print(syn_text)\n",
        "\n",
        "            subsenses = sense.xpath('div[@class=\"trg\"]/ol[@class=\"subSenses\"]/li[@class=\"subSense\"]')\n",
        "            for subsense in subsenses:\n",
        "                iteration=subsense.xpath('span[@class=\"subsenseIteration\"]')\n",
        "                iteration=get_single_text(iteration)\n",
        "                form_groups = subsense.xpath('span[@class=\"form-groups\"]')\n",
        "                fg_text=get_p1_text(form_groups)\n",
        "                grammatical_notes = subsense.xpath('span[@class=\"grammatical_note\"]')\n",
        "                gn_text=get_p2_text(grammatical_notes)\n",
        "\n",
        "                sense_reg = subsense.xpath('span[@class=\"sense-registers\"]')\n",
        "                sense_reg = get_p2_text(sense_reg)\n",
        "\n",
        "                sub_def = subsense.xpath('span[@class=\"ind one-click-content\"]')\n",
        "                sub_def = get_single_text(sub_def)\n",
        "                example = subsense.xpath('div[@class=\"exg\"]')\n",
        "                example = get_single_text(example)\n",
        "                synonyms = subsense.xpath('div[@class=\"trg\"]/div[@class=\"synonyms\"]/div[@class=\"exg\"]/div')\n",
        "                syn_text = get_syn_text(synonyms)\n",
        "\n",
        "                print(iteration,sense_reg, fg_text, gn_text, sub_def)\n",
        "                print(example)\n",
        "                print(syn_text)\n",
        "\n",
        "    "
      ],
      "execution_count": 14,
      "outputs": []
    },
    {
      "cell_type": "markdown",
      "metadata": {
        "id": "GQmqhzm5WQjY"
      },
      "source": [
        "### Examples"
      ]
    },
    {
      "cell_type": "code",
      "metadata": {
        "id": "5no8A7jHi0Jq",
        "colab": {
          "base_uri": "https://localhost:8080/"
        },
        "outputId": "5d1469fb-3c83-4a1d-bac5-3c9e1c9a6a08"
      },
      "source": [
        "get_all('word')"
      ],
      "execution_count": 15,
      "outputs": [
        {
          "output_type": "stream",
          "text": [
            "word \n",
            "\n",
            "NOUN\n",
            " \n",
            "1    A single distinct meaningful element of speech or writing, used with others (or sometimes alone) to form a sentence and typically shown with a space on either side when written or printed. \n",
            "‘I don't like the word ‘unofficial’’\n",
            "Synonyms: \n",
            "term, name, expression, designation, locution\n",
            "\n",
            "1.1    A single distinct conceptual unit of language, comprising inflected and variant forms.\n",
            "‘He is a knowledge worker in all senses of the word and carries a message everyone involved in best practise in education should hear.’\n",
            "\n",
            "1.2  (usually words)  Something spoken or written; a remark or statement.\n",
            "‘his grandfather's words had been meant kindly’\n",
            "\n",
            "1.3  (a word) [with negative] Even the smallest amount of something spoken or written.\n",
            "‘don't believe a word of it’\n",
            "\n",
            "1.4  (words)  Angry talk.\n",
            "‘her father would have had words with her about that’\n",
            "\n",
            "1.5   [mass noun] Speech as distinct from action.\n",
            "‘he conforms in word and deed to the values of a society that he rejects’\n",
            "\n",
            "2    A command, password, or signal. \n",
            "‘someone gave me the word to start playing’\n",
            "Synonyms: \n",
            "instruction, order, command\n",
            "\n",
            "command, order, decree, edict, mandate\n",
            "\n",
            "2.1   [mass noun] Communication; news.\n",
            "‘I was afraid to leave Edinburgh in case there was word from the War Office’\n",
            "\n",
            "3  (one's word)  One's account of the truth, especially when it differs from that of another person. \n",
            "‘in court it would have been his word against mine’\n",
            "\n",
            "3.1    A promise or assurance.\n",
            "‘everything will be taken care of—you have my word’\n",
            "\n",
            "4  (words)  The text or spoken part of a play, opera, or other performed piece; a script. \n",
            "‘he had to learn his words’\n",
            "Synonyms: \n",
            "script, text\n",
            "\n",
            "5    A basic unit of data in a computer, typically 16 or 32 bits long. \n",
            "\n",
            "\n",
            "VERB\n",
            " \n",
            "    Express (something spoken or written) in particular words. \n",
            "‘he words his request in a particularly ironic way’\n",
            "Synonyms: \n",
            "phrase, express, put, couch, frame, set forth, formulate, style\n",
            "\n",
            "EXCLAMATION\n",
            "[informal ] \n",
            "    Used to express agreement or affirmation. \n",
            "‘Word, that's a good record, man’\n",
            "\n"
          ],
          "name": "stdout"
        }
      ]
    },
    {
      "cell_type": "code",
      "metadata": {
        "id": "7gaW9nXyi0Mz",
        "colab": {
          "base_uri": "https://localhost:8080/"
        },
        "outputId": "834b209a-189b-49c7-c298-1754768aee8d"
      },
      "source": [
        "get_all('subsense')"
      ],
      "execution_count": 16,
      "outputs": [
        {
          "output_type": "stream",
          "text": [
            "subsense \n",
            "\n",
            "NOUN\n",
            " \n",
            "    A subsidiary sense of a word defined in a dictionary. \n",
            "‘Dictionaries usually put polysemous words with all their senses in one article and homonymous words in two or more articles, dividing each into senses and subsenses as appropriate.’\n",
            "\n"
          ],
          "name": "stdout"
        }
      ]
    },
    {
      "cell_type": "code",
      "metadata": {
        "id": "VNsjZK8JlbPh",
        "colab": {
          "base_uri": "https://localhost:8080/"
        },
        "outputId": "5e24bea8-4349-4aaf-8259-228c2780efc3"
      },
      "source": [
        "get_all('communication')"
      ],
      "execution_count": 17,
      "outputs": [
        {
          "output_type": "stream",
          "text": [
            "communication \n",
            "\n",
            "NOUN\n",
            " \n",
            "1   [mass noun] The imparting or exchanging of information by speaking, writing, or using some other medium. \n",
            "‘television is an effective means of communication’\n",
            "Synonyms: \n",
            "transmission, imparting, conveying, reporting, presenting, passing on, handing on, relay, conveyance, divulgence, divulgation, disclosure\n",
            "\n",
            "1.1   [count noun] A letter or message containing information or news.\n",
            "‘a telephone communication’\n",
            "\n",
            "1.2    The successful conveying or sharing of ideas and feelings.\n",
            "‘there was a lack of communication between Pamela and her parents’\n",
            "\n",
            "1.3    Social contact.\n",
            "‘she gave him some hope of her return, or at least of their future communication’\n",
            "\n",
            "2  (communications)  Means of sending or receiving information, such as phone lines or computers. \n",
            "‘satellite communications’\n",
            "\n",
            "2.1   [treated as singular] The field of study concerned with the transmission of information.\n",
            "‘After studying communications and political science, he was soon ready for more wanderings.’\n",
            "\n",
            "3  (communications)  Means of travelling or of transporting goods, such as roads or railways. \n",
            "‘a city providing excellent road and rail communications’\n",
            "Synonyms: \n",
            "links, connections, services, routes\n",
            "\n"
          ],
          "name": "stdout"
        }
      ]
    },
    {
      "cell_type": "markdown",
      "metadata": {
        "id": "UlPCcrLvWWtv"
      },
      "source": [
        "## Obtaining information in specified format (a table) \n",
        "\n",
        "\n"
      ]
    },
    {
      "cell_type": "code",
      "metadata": {
        "id": "soFsbZNRPHyb"
      },
      "source": [
        "import pandas as pd"
      ],
      "execution_count": 18,
      "outputs": []
    },
    {
      "cell_type": "code",
      "metadata": {
        "id": "d5lbvoHGPWiU"
      },
      "source": [
        "def get_df(words):\n",
        "    df_rows=[]\n",
        "    for word in words:\n",
        "        broken_html=\"\"\n",
        "        try:\n",
        "            with urlopen(f'https://www.lexico.com/definition/{word}') as response:\n",
        "                for line in response:\n",
        "                    line = line.decode('utf-8')\n",
        "                    broken_html+=line\n",
        "        except:\n",
        "            print('error')\n",
        "            return\n",
        "        try:\n",
        "            tree = fromstring(broken_html)\n",
        "            fixed_html = tostring(tree, pretty_print=True).decode('utf-8')\n",
        "            tree = fromstring(fixed_html)\n",
        "            entry_tree=tree.xpath('//div[@class=\"entryWrapper\"]')\n",
        "        except:\n",
        "            print(\"error\")\n",
        "            return\n",
        "        \n",
        "        grambs=entry_tree[0].xpath('//section[@class=\"gramb\"]')\n",
        "        for gramb in grambs: # for every part of speech\n",
        "            part_of_speech=gramb.xpath('h3[@class=\"ps pos\"]/span[@class=\"pos\"]')\n",
        "            part_of_speech = part_of_speech[0].text_content().upper()\n",
        "\n",
        "            get_single_text= lambda x: x[0].text_content() if len(x)>0 else \"\" # preventing errors when no results\n",
        "            get_p1_text = lambda p1: \"%s\" % ' '.join([f'({x.text_content()})' for x in p1]) # (result1), (result2) \n",
        "            get_p2_text = lambda p2: \"%s\" % ' '.join([f'[{x.text_content()}]' for x in p2]) # [result1], [result2]\n",
        "            get_syn_text = lambda s: \"%s\" % ''.join([x.text_content() for x in s]) if len(s)>0 else \"\" # Synonyms: a, b\n",
        "\n",
        "            sense_reg_gramb = gramb.xpath('span[@class=\"sense-registers\"]')\n",
        "            sense_reg_gramb = get_p2_text(sense_reg_gramb)\n",
        "            form_groups_gramb = gramb.xpath('span[@class=\"form-groups\"]')\n",
        "            form_groups_gramb = get_p1_text(form_groups_gramb)\n",
        "\n",
        " \n",
        "            senses = gramb.xpath('ul[@class=\"semb\"]/li')\n",
        "            for sense in senses: \n",
        "\n",
        "                form_groups = sense.xpath('div[@class=\"trg\"]/p/span[@class=\"form-groups\"]')\n",
        "                fg_text=get_p1_text(form_groups) # for example: (one's word) before the definition\n",
        "                grammatical_notes = sense.xpath('div[@class=\"trg\"]/p/span[@class=\"grammatical_note\"]')\n",
        "                gn_text=get_p2_text(grammatical_notes) # example: [mass noun]\n",
        "                \n",
        "                sense_reg = sense.xpath('span[@class=\"sense-registers\"]')\n",
        "                sense_reg = get_p2_text(sense_reg)\n",
        "\n",
        "                main_def = sense.xpath('div[@class=\"trg\"]/p/span[@class=\"ind one-click-content\"]')\n",
        "                main_def = get_single_text(main_def)\n",
        "                cross_ref = sense.xpath('div[@class=\"trg\"]/div[@class=\"crossReference\"]')\n",
        "                cross_ref = get_single_text(cross_ref)\n",
        "\n",
        "                example =  sense.xpath('div[@class=\"trg\"]//div[@class=\"exg\"]')\n",
        "                example = get_single_text(example)\n",
        "                synonyms = sense.xpath('div[@class=\"trg\"]/div[@class=\"synonyms\"]/div[@class=\"exg\"]/div')\n",
        "                syn_text = get_syn_text(synonyms)\n",
        "\n",
        "\n",
        "                def_text = sense_reg_gramb + form_groups_gramb+ sense_reg + fg_text + gn_text + main_def +cross_ref\n",
        "                row = [word, part_of_speech, def_text.strip(), example.strip(), syn_text.strip()]\n",
        "                df_rows.append(row)\n",
        "    return pd.DataFrame(df_rows, columns=['word', 'part of speech', 'meaning', 'example', 'synonyms'])"
      ],
      "execution_count": 19,
      "outputs": []
    },
    {
      "cell_type": "markdown",
      "metadata": {
        "id": "xaqPU5-5MPsb"
      },
      "source": [
        "### Examples"
      ]
    },
    {
      "cell_type": "code",
      "metadata": {
        "id": "XHaWIlLNRmPD",
        "colab": {
          "base_uri": "https://localhost:8080/",
          "height": 238
        },
        "outputId": "f6ef629f-08e6-4d54-daff-46d4a79287fc"
      },
      "source": [
        "get_df(['morning','evening'])"
      ],
      "execution_count": 20,
      "outputs": [
        {
          "output_type": "execute_result",
          "data": {
            "text/html": [
              "<div>\n",
              "<style scoped>\n",
              "    .dataframe tbody tr th:only-of-type {\n",
              "        vertical-align: middle;\n",
              "    }\n",
              "\n",
              "    .dataframe tbody tr th {\n",
              "        vertical-align: top;\n",
              "    }\n",
              "\n",
              "    .dataframe thead th {\n",
              "        text-align: right;\n",
              "    }\n",
              "</style>\n",
              "<table border=\"1\" class=\"dataframe\">\n",
              "  <thead>\n",
              "    <tr style=\"text-align: right;\">\n",
              "      <th></th>\n",
              "      <th>word</th>\n",
              "      <th>part of speech</th>\n",
              "      <th>meaning</th>\n",
              "      <th>example</th>\n",
              "      <th>synonyms</th>\n",
              "    </tr>\n",
              "  </thead>\n",
              "  <tbody>\n",
              "    <tr>\n",
              "      <th>0</th>\n",
              "      <td>morning</td>\n",
              "      <td>NOUN</td>\n",
              "      <td>The period of time between midnight and noon, ...</td>\n",
              "      <td>‘I've got a meeting this morning’</td>\n",
              "      <td>before noon, before lunch, before lunchtime, a.m.</td>\n",
              "    </tr>\n",
              "    <tr>\n",
              "      <th>1</th>\n",
              "      <td>morning</td>\n",
              "      <td>ADVERB</td>\n",
              "      <td>[informal ](mornings)Every morning.</td>\n",
              "      <td>‘mornings, she'd sleep late’</td>\n",
              "      <td></td>\n",
              "    </tr>\n",
              "    <tr>\n",
              "      <th>2</th>\n",
              "      <td>morning</td>\n",
              "      <td>EXCLAMATION</td>\n",
              "      <td>[informal ]short for good morning</td>\n",
              "      <td>‘Morning mate. I trust you are feeling a whole...</td>\n",
              "      <td></td>\n",
              "    </tr>\n",
              "    <tr>\n",
              "      <th>3</th>\n",
              "      <td>evening</td>\n",
              "      <td>NOUN</td>\n",
              "      <td>The period of time at the end of the day, usua...</td>\n",
              "      <td>‘it was seven o'clock in the evening’</td>\n",
              "      <td>night, late afternoon, end of day, close of day</td>\n",
              "    </tr>\n",
              "    <tr>\n",
              "      <th>4</th>\n",
              "      <td>evening</td>\n",
              "      <td>ADVERB</td>\n",
              "      <td>[informal ]In the evening; every evening.</td>\n",
              "      <td>‘Saturday evenings he invariably fell asleep’\\...</td>\n",
              "      <td></td>\n",
              "    </tr>\n",
              "    <tr>\n",
              "      <th>5</th>\n",
              "      <td>evening</td>\n",
              "      <td>EXCLAMATION</td>\n",
              "      <td>[informal ]short for good evening</td>\n",
              "      <td></td>\n",
              "      <td></td>\n",
              "    </tr>\n",
              "  </tbody>\n",
              "</table>\n",
              "</div>"
            ],
            "text/plain": [
              "      word  ...                                           synonyms\n",
              "0  morning  ...  before noon, before lunch, before lunchtime, a.m.\n",
              "1  morning  ...                                                   \n",
              "2  morning  ...                                                   \n",
              "3  evening  ...    night, late afternoon, end of day, close of day\n",
              "4  evening  ...                                                   \n",
              "5  evening  ...                                                   \n",
              "\n",
              "[6 rows x 5 columns]"
            ]
          },
          "metadata": {
            "tags": []
          },
          "execution_count": 20
        }
      ]
    },
    {
      "cell_type": "code",
      "metadata": {
        "id": "pVgM_3XTzrcs",
        "colab": {
          "base_uri": "https://localhost:8080/",
          "height": 426
        },
        "outputId": "41c8ba46-d5c1-4d28-cc84-83ce82710a33"
      },
      "source": [
        "get_df(['early','late'])"
      ],
      "execution_count": 21,
      "outputs": [
        {
          "output_type": "execute_result",
          "data": {
            "text/html": [
              "<div>\n",
              "<style scoped>\n",
              "    .dataframe tbody tr th:only-of-type {\n",
              "        vertical-align: middle;\n",
              "    }\n",
              "\n",
              "    .dataframe tbody tr th {\n",
              "        vertical-align: top;\n",
              "    }\n",
              "\n",
              "    .dataframe thead th {\n",
              "        text-align: right;\n",
              "    }\n",
              "</style>\n",
              "<table border=\"1\" class=\"dataframe\">\n",
              "  <thead>\n",
              "    <tr style=\"text-align: right;\">\n",
              "      <th></th>\n",
              "      <th>word</th>\n",
              "      <th>part of speech</th>\n",
              "      <th>meaning</th>\n",
              "      <th>example</th>\n",
              "      <th>synonyms</th>\n",
              "    </tr>\n",
              "  </thead>\n",
              "  <tbody>\n",
              "    <tr>\n",
              "      <th>0</th>\n",
              "      <td>early</td>\n",
              "      <td>ADJECTIVE</td>\n",
              "      <td>Happening or done before the usual or expected...</td>\n",
              "      <td>‘we ate an early lunch’</td>\n",
              "      <td>untimely, premature\\n\\nprompt, timely, quick, ...</td>\n",
              "    </tr>\n",
              "    <tr>\n",
              "      <th>1</th>\n",
              "      <td>early</td>\n",
              "      <td>ADJECTIVE</td>\n",
              "      <td>Belonging or happening near the beginning of a...</td>\n",
              "      <td>‘an early goal secured victory’</td>\n",
              "      <td>advance, forward, prior</td>\n",
              "    </tr>\n",
              "    <tr>\n",
              "      <th>2</th>\n",
              "      <td>early</td>\n",
              "      <td>ADVERB</td>\n",
              "      <td>Before the usual or expected time.</td>\n",
              "      <td>‘I was planning to finish work early today’</td>\n",
              "      <td>early in the day, in the early morning\\n\\nbefo...</td>\n",
              "    </tr>\n",
              "    <tr>\n",
              "      <th>3</th>\n",
              "      <td>early</td>\n",
              "      <td>ADVERB</td>\n",
              "      <td>Near the beginning of a particular time or per...</td>\n",
              "      <td>‘we lost a couple of games early in the season’</td>\n",
              "      <td>beginning, opening, commencing, starting, ince...</td>\n",
              "    </tr>\n",
              "    <tr>\n",
              "      <th>4</th>\n",
              "      <td>early</td>\n",
              "      <td>NOUN</td>\n",
              "      <td>(earlies)Potatoes which are ready to be harves...</td>\n",
              "      <td>‘The versatile early potato Solanum tuberosum ...</td>\n",
              "      <td></td>\n",
              "    </tr>\n",
              "    <tr>\n",
              "      <th>5</th>\n",
              "      <td>early</td>\n",
              "      <td>NOUN</td>\n",
              "      <td>(earlies)Early shifts.</td>\n",
              "      <td>‘she is on earlies’\\n‘He asked to be put on ea...</td>\n",
              "      <td></td>\n",
              "    </tr>\n",
              "    <tr>\n",
              "      <th>6</th>\n",
              "      <td>late</td>\n",
              "      <td>ADJECTIVE</td>\n",
              "      <td>Doing something or taking place after the expe...</td>\n",
              "      <td>‘his late arrival’</td>\n",
              "      <td>behind time, behind schedule, behind, behindhand</td>\n",
              "    </tr>\n",
              "    <tr>\n",
              "      <th>7</th>\n",
              "      <td>late</td>\n",
              "      <td>ADJECTIVE</td>\n",
              "      <td>Belonging or taking place far on in a particul...</td>\n",
              "      <td>‘they won the game with a late goal’</td>\n",
              "      <td></td>\n",
              "    </tr>\n",
              "    <tr>\n",
              "      <th>8</th>\n",
              "      <td>late</td>\n",
              "      <td>ADJECTIVE</td>\n",
              "      <td>(the/one's late)(of a specified person) no lon...</td>\n",
              "      <td>‘the late Francis Bacon’</td>\n",
              "      <td>dead, deceased, departed, lamented, passed awa...</td>\n",
              "    </tr>\n",
              "    <tr>\n",
              "      <th>9</th>\n",
              "      <td>late</td>\n",
              "      <td>ADVERB</td>\n",
              "      <td>After the expected, proper, or usual time.</td>\n",
              "      <td>‘she arrived late’</td>\n",
              "      <td>behind schedule, behind time, behindhand, unpu...</td>\n",
              "    </tr>\n",
              "    <tr>\n",
              "      <th>10</th>\n",
              "      <td>late</td>\n",
              "      <td>ADVERB</td>\n",
              "      <td>Far on in time; towards the end of a period.</td>\n",
              "      <td>‘it happened late in 1994’</td>\n",
              "      <td></td>\n",
              "    </tr>\n",
              "    <tr>\n",
              "      <th>11</th>\n",
              "      <td>late</td>\n",
              "      <td>ADVERB</td>\n",
              "      <td>(late of)Formerly but not now living or workin...</td>\n",
              "      <td>‘Mrs Halford, late of the County Records Office’</td>\n",
              "      <td></td>\n",
              "    </tr>\n",
              "  </tbody>\n",
              "</table>\n",
              "</div>"
            ],
            "text/plain": [
              "     word  ...                                           synonyms\n",
              "0   early  ...  untimely, premature\\n\\nprompt, timely, quick, ...\n",
              "1   early  ...                            advance, forward, prior\n",
              "2   early  ...  early in the day, in the early morning\\n\\nbefo...\n",
              "3   early  ...  beginning, opening, commencing, starting, ince...\n",
              "4   early  ...                                                   \n",
              "5   early  ...                                                   \n",
              "6    late  ...   behind time, behind schedule, behind, behindhand\n",
              "7    late  ...                                                   \n",
              "8    late  ...  dead, deceased, departed, lamented, passed awa...\n",
              "9    late  ...  behind schedule, behind time, behindhand, unpu...\n",
              "10   late  ...                                                   \n",
              "11   late  ...                                                   \n",
              "\n",
              "[12 rows x 5 columns]"
            ]
          },
          "metadata": {
            "tags": []
          },
          "execution_count": 21
        }
      ]
    },
    {
      "cell_type": "code",
      "metadata": {
        "id": "H9UzePc_ZT5t"
      },
      "source": [
        ""
      ],
      "execution_count": null,
      "outputs": []
    }
  ]
}
